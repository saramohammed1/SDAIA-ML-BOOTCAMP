{
  "nbformat": 4,
  "nbformat_minor": 0,
  "metadata": {
    "colab": {
      "provenance": []
    },
    "kernelspec": {
      "name": "python3",
      "display_name": "Python 3"
    },
    "language_info": {
      "name": "python"
    }
  },
  "cells": [
    {
      "cell_type": "markdown",
      "source": [
        "# Linear Regression for Diabetes Prediction"
      ],
      "metadata": {
        "id": "fiLLIF-BYvN-"
      }
    },
    {
      "cell_type": "markdown",
      "source": [
        "## Data Description\n",
        "The \"Diabetes\" dataset is a built-in dataset in scikit-learn that consists of physiological and diagnostic measurements related to diabetes disease. It comprises ten numerical features, including:\n",
        "\n",
        "- Age: Age in years.\n",
        "- Sex: Male (1) or female (0).\n",
        "- Body Mass Index (BMI): Body mass index, which relates weight to height.\n",
        "- Average Blood Pressure (BP): Mean arterial blood pressure.\n",
        "- S1 to S6: Six blood serum measurements. These are numerical features representing various biochemical markers."
      ],
      "metadata": {
        "id": "c2F1zCm-YzvA"
      }
    },
    {
      "cell_type": "code",
      "execution_count": 42,
      "metadata": {
        "id": "94-j7NdSULxD"
      },
      "outputs": [],
      "source": [
        "import pandas as pd\n",
        "from sklearn.datasets import load_diabetes\n",
        "\n",
        "# Load the Diabetes dataset\n",
        "dataset = load_diabetes()\n"
      ]
    },
    {
      "cell_type": "markdown",
      "source": [
        "The target variable is a quantitative measure of disease progression one year after the baseline measurements were taken. It represents a numerical value indicating the severity or progression of diabetes disease."
      ],
      "metadata": {
        "id": "0d2MQIDEZHcN"
      }
    },
    {
      "cell_type": "code",
      "source": [
        "\n",
        "# Create a DataFrame from the dataset\n",
        "df = pd.DataFrame(load_diabetes().data, columns= load_diabetes().feature_names)\n",
        "y = dataset.target\n",
        "diabetes = load_diabetes(as_frame='true')\n",
        "\n"
      ],
      "metadata": {
        "id": "N4ri_wo3ZE0i"
      },
      "execution_count": 45,
      "outputs": []
    },
    {
      "cell_type": "markdown",
      "source": [
        "**Question 1:** Why is the prediction of target output, disease progression, a regression task?\n",
        "\n"
      ],
      "metadata": {
        "id": "R5TIpX8iZLu-"
      }
    },
    {
      "cell_type": "markdown",
      "source": [],
      "metadata": {
        "id": "WMLhIp_w97T_"
      }
    },
    {
      "cell_type": "markdown",
      "source": [
        "Because it is a numerical feature may takes on continuous values."
      ],
      "metadata": {
        "id": "_qKnz_QFobvU"
      }
    },
    {
      "cell_type": "markdown",
      "source": [
        "## Split Data"
      ],
      "metadata": {
        "id": "x8uPHuEOZwxR"
      }
    },
    {
      "cell_type": "code",
      "source": [
        "\n",
        "from sklearn.linear_model import LinearRegression\n",
        "from sklearn.model_selection import train_test_split\n",
        "\n"
      ],
      "metadata": {
        "id": "iXA_yc3sZuwi"
      },
      "execution_count": 38,
      "outputs": []
    },
    {
      "cell_type": "markdown",
      "source": [
        "**Question 2:**\n",
        "- Split the data into features (X) and target (y)\n",
        "\n",
        "- Split the data between training and testing with a ratio of 80/20"
      ],
      "metadata": {
        "id": "P5lVe1n5ZuPt"
      }
    },
    {
      "cell_type": "code",
      "source": [
        "# Split the data into training and test\n",
        "X_train, X_test, y_train, y_test = train_test_split(df, y, test_size=0.2, random_state=42)\n",
        "\n"
      ],
      "metadata": {
        "id": "XYj-CMxJY-Li"
      },
      "execution_count": 48,
      "outputs": []
    },
    {
      "cell_type": "markdown",
      "source": [
        "**Question 3:**\n",
        "- Is the model you aim to train linear or multi-linear?\n",
        "- Train a linear regression model"
      ],
      "metadata": {
        "id": "5fiTEYApaB-X"
      }
    },
    {
      "cell_type": "markdown",
      "source": [
        "A multilinear model, because it incorporates several independent variables."
      ],
      "metadata": {
        "id": "qG_2ZNspC7-N"
      }
    },
    {
      "cell_type": "markdown",
      "source": [
        "**Analysis**"
      ],
      "metadata": {
        "id": "IuTSzzCaaREI"
      }
    },
    {
      "cell_type": "code",
      "source": [
        "\n",
        "# Fit a linear regression model\n",
        "model = LinearRegression()\n",
        "\n",
        "model.fit(X_train, y_train)\n"
      ],
      "metadata": {
        "id": "WTzil5HaaBhP",
        "outputId": "fa221c5d-ac3a-44a7-dd49-8041064aecf6",
        "colab": {
          "base_uri": "https://localhost:8080/",
          "height": 74
        }
      },
      "execution_count": 49,
      "outputs": [
        {
          "output_type": "execute_result",
          "data": {
            "text/plain": [
              "LinearRegression()"
            ],
            "text/html": [
              "<style>#sk-container-id-3 {color: black;background-color: white;}#sk-container-id-3 pre{padding: 0;}#sk-container-id-3 div.sk-toggleable {background-color: white;}#sk-container-id-3 label.sk-toggleable__label {cursor: pointer;display: block;width: 100%;margin-bottom: 0;padding: 0.3em;box-sizing: border-box;text-align: center;}#sk-container-id-3 label.sk-toggleable__label-arrow:before {content: \"▸\";float: left;margin-right: 0.25em;color: #696969;}#sk-container-id-3 label.sk-toggleable__label-arrow:hover:before {color: black;}#sk-container-id-3 div.sk-estimator:hover label.sk-toggleable__label-arrow:before {color: black;}#sk-container-id-3 div.sk-toggleable__content {max-height: 0;max-width: 0;overflow: hidden;text-align: left;background-color: #f0f8ff;}#sk-container-id-3 div.sk-toggleable__content pre {margin: 0.2em;color: black;border-radius: 0.25em;background-color: #f0f8ff;}#sk-container-id-3 input.sk-toggleable__control:checked~div.sk-toggleable__content {max-height: 200px;max-width: 100%;overflow: auto;}#sk-container-id-3 input.sk-toggleable__control:checked~label.sk-toggleable__label-arrow:before {content: \"▾\";}#sk-container-id-3 div.sk-estimator input.sk-toggleable__control:checked~label.sk-toggleable__label {background-color: #d4ebff;}#sk-container-id-3 div.sk-label input.sk-toggleable__control:checked~label.sk-toggleable__label {background-color: #d4ebff;}#sk-container-id-3 input.sk-hidden--visually {border: 0;clip: rect(1px 1px 1px 1px);clip: rect(1px, 1px, 1px, 1px);height: 1px;margin: -1px;overflow: hidden;padding: 0;position: absolute;width: 1px;}#sk-container-id-3 div.sk-estimator {font-family: monospace;background-color: #f0f8ff;border: 1px dotted black;border-radius: 0.25em;box-sizing: border-box;margin-bottom: 0.5em;}#sk-container-id-3 div.sk-estimator:hover {background-color: #d4ebff;}#sk-container-id-3 div.sk-parallel-item::after {content: \"\";width: 100%;border-bottom: 1px solid gray;flex-grow: 1;}#sk-container-id-3 div.sk-label:hover label.sk-toggleable__label {background-color: #d4ebff;}#sk-container-id-3 div.sk-serial::before {content: \"\";position: absolute;border-left: 1px solid gray;box-sizing: border-box;top: 0;bottom: 0;left: 50%;z-index: 0;}#sk-container-id-3 div.sk-serial {display: flex;flex-direction: column;align-items: center;background-color: white;padding-right: 0.2em;padding-left: 0.2em;position: relative;}#sk-container-id-3 div.sk-item {position: relative;z-index: 1;}#sk-container-id-3 div.sk-parallel {display: flex;align-items: stretch;justify-content: center;background-color: white;position: relative;}#sk-container-id-3 div.sk-item::before, #sk-container-id-3 div.sk-parallel-item::before {content: \"\";position: absolute;border-left: 1px solid gray;box-sizing: border-box;top: 0;bottom: 0;left: 50%;z-index: -1;}#sk-container-id-3 div.sk-parallel-item {display: flex;flex-direction: column;z-index: 1;position: relative;background-color: white;}#sk-container-id-3 div.sk-parallel-item:first-child::after {align-self: flex-end;width: 50%;}#sk-container-id-3 div.sk-parallel-item:last-child::after {align-self: flex-start;width: 50%;}#sk-container-id-3 div.sk-parallel-item:only-child::after {width: 0;}#sk-container-id-3 div.sk-dashed-wrapped {border: 1px dashed gray;margin: 0 0.4em 0.5em 0.4em;box-sizing: border-box;padding-bottom: 0.4em;background-color: white;}#sk-container-id-3 div.sk-label label {font-family: monospace;font-weight: bold;display: inline-block;line-height: 1.2em;}#sk-container-id-3 div.sk-label-container {text-align: center;}#sk-container-id-3 div.sk-container {/* jupyter's `normalize.less` sets `[hidden] { display: none; }` but bootstrap.min.css set `[hidden] { display: none !important; }` so we also need the `!important` here to be able to override the default hidden behavior on the sphinx rendered scikit-learn.org. See: https://github.com/scikit-learn/scikit-learn/issues/21755 */display: inline-block !important;position: relative;}#sk-container-id-3 div.sk-text-repr-fallback {display: none;}</style><div id=\"sk-container-id-3\" class=\"sk-top-container\"><div class=\"sk-text-repr-fallback\"><pre>LinearRegression()</pre><b>In a Jupyter environment, please rerun this cell to show the HTML representation or trust the notebook. <br />On GitHub, the HTML representation is unable to render, please try loading this page with nbviewer.org.</b></div><div class=\"sk-container\" hidden><div class=\"sk-item\"><div class=\"sk-estimator sk-toggleable\"><input class=\"sk-toggleable__control sk-hidden--visually\" id=\"sk-estimator-id-3\" type=\"checkbox\" checked><label for=\"sk-estimator-id-3\" class=\"sk-toggleable__label sk-toggleable__label-arrow\">LinearRegression</label><div class=\"sk-toggleable__content\"><pre>LinearRegression()</pre></div></div></div></div></div>"
            ]
          },
          "metadata": {},
          "execution_count": 49
        }
      ]
    },
    {
      "cell_type": "markdown",
      "source": [
        "**Question 4:**\n",
        "- Make prediction on the test set\n",
        "- Calculate a metric known as r2-score"
      ],
      "metadata": {
        "id": "2Fho3CTIaZt4"
      }
    },
    {
      "cell_type": "code",
      "source": [
        "# Make predictions on the test set\n",
        "pred = model.predict(X_test)\n",
        "\n",
        "\n",
        "# Calculate the R-squared score\n",
        "from sklearn.metrics import r2_score\n",
        "print(r2_score(y_test, pred))\n",
        "\n"
      ],
      "metadata": {
        "id": "6Qn4i5RMaYq_",
        "outputId": "6bc02080-94aa-41ea-fdfe-ee3085a65aca",
        "colab": {
          "base_uri": "https://localhost:8080/"
        }
      },
      "execution_count": 51,
      "outputs": [
        {
          "output_type": "stream",
          "name": "stdout",
          "text": [
            "0.4526027629719195\n"
          ]
        }
      ]
    }
  ]
}